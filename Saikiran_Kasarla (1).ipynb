{
  "nbformat": 4,
  "nbformat_minor": 0,
  "metadata": {
    "colab": {
      "name": "Saikiran_Kasarla.ipynb",
      "provenance": [],
      "toc_visible": true
    },
    "kernelspec": {
      "name": "python3",
      "display_name": "Python 3"
    },
    "language_info": {
      "name": "python"
    }
  },
  "cells": [
    {
      "cell_type": "code",
      "metadata": {
        "id": "yBzpRXfeH7Fu"
      },
      "source": [
        "## IMORTING DATASET\n",
        "from keras.datasets import mnist\n",
        "\n",
        "data = mnist.load_data()"
      ],
      "execution_count": 43,
      "outputs": []
    },
    {
      "cell_type": "code",
      "metadata": {
        "id": "x6TGSMB9IsH9"
      },
      "source": [
        "((X_train,y_train),(X_test,y_test)) = data"
      ],
      "execution_count": 44,
      "outputs": []
    },
    {
      "cell_type": "code",
      "metadata": {
        "id": "eaHm0Ms1JEoU"
      },
      "source": [
        "#reshape the training data\n",
        "X_train = X_train.reshape((X_train.shape[0], 28*28)).astype('float32')\n",
        "X_test = X_test.reshape((X_test.shape[0], 28*28)).astype('float32')"
      ],
      "execution_count": 48,
      "outputs": []
    },
    {
      "cell_type": "code",
      "metadata": {
        "id": "ZdTybooPJEuc"
      },
      "source": [
        "#normalization values from 0-225 to 0-1\n",
        "X_train = X_train / 255\n",
        "X_test = X_test / 255"
      ],
      "execution_count": 49,
      "outputs": []
    },
    {
      "cell_type": "code",
      "metadata": {
        "id": "daeTTkEjJE07"
      },
      "source": [
        " from keras.utils import np_utils\n",
        " print(y_test.shape)\n",
        " y_train = np_utils.to_categorical(y_train)\n",
        " y_test = np_utils.to_categorical(y_test)\n",
        " num_classes = y_test.shape[1]\n",
        " print(num_classes)"
      ],
      "execution_count": null,
      "outputs": []
    },
    {
      "cell_type": "code",
      "metadata": {
        "id": "AScM0qgxJE41"
      },
      "source": [
        " from keras.models import Sequential\n",
        " from keras.layers import Dense"
      ],
      "execution_count": 55,
      "outputs": []
    },
    {
      "cell_type": "code",
      "metadata": {
        "id": "Iu_INPhcVj2W"
      },
      "source": [
        "# define model\n",
        "model = Sequential()\n",
        "# add first Hidden Layer\n",
        "model.add(Dense(32, input_dim = 28*28, activation='relu'))\n",
        "# add second hidden Layer \n",
        "model.add(Dense(64, activation='relu'))\n",
        "# add output layer having 10 neurons (since there are 10 classes/categories in)\n",
        "model.add(Dense(10, activation='softmax'))"
      ],
      "execution_count": 60,
      "outputs": []
    },
    {
      "cell_type": "code",
      "metadata": {
        "id": "-fTIEkrhVkL6"
      },
      "source": [
        "# compile Model\n",
        "model.compile(loss='categorical_crossentropy',optimizer='adam',metrics=['accuracy'])"
      ],
      "execution_count": 61,
      "outputs": []
    },
    {
      "cell_type": "code",
      "metadata": {
        "id": "c4q1EUIcVkbP"
      },
      "source": [
        "# print model summary\n",
        "model.summary()"
      ],
      "execution_count": null,
      "outputs": []
    },
    {
      "cell_type": "code",
      "metadata": {
        "id": "NjrG4nyNVkmJ"
      },
      "source": [
        "# Train model\n",
        "model.fit(X_train, y_train, epochs=10, batch_size=100)"
      ],
      "execution_count": null,
      "outputs": []
    },
    {
      "cell_type": "code",
      "metadata": {
        "id": "XHXhbMBTbgM6"
      },
      "source": [
        "scores = model.evaluate(X_test, y_test)\n",
        "print(scores)  ## returns loss and accuracy"
      ],
      "execution_count": null,
      "outputs": []
    },
    {
      "cell_type": "code",
      "metadata": {
        "id": "lW92uDSUb0EY"
      },
      "source": [
        "predicitions = model.predict(X_test)"
      ],
      "execution_count": 69,
      "outputs": []
    }
  ]
}